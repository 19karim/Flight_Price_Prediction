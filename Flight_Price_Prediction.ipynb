{
 "cells": [
  {
   "cell_type": "markdown",
   "id": "4e4793cc",
   "metadata": {},
   "source": [
    "### Import the Libraries"
   ]
  },
  {
   "cell_type": "code",
   "execution_count": 1,
   "id": "86700fa4",
   "metadata": {},
   "outputs": [],
   "source": [
    "import warnings\n",
    "warnings.filterwarnings('ignore')\n",
    "import numpy as np\n",
    "import pandas as pd\n",
    "import matplotlib.pyplot as plt\n",
    "import plotly.express as px\n",
    "import seaborn as sns\n",
    "import missingno as msno"
   ]
  },
  {
   "cell_type": "markdown",
   "id": "fae87933",
   "metadata": {},
   "source": [
    "### Import the Train Dataset"
   ]
  },
  {
   "cell_type": "code",
   "execution_count": 2,
   "id": "d55a4e29",
   "metadata": {},
   "outputs": [
    {
     "data": {
      "text/html": [
       "<div>\n",
       "<style scoped>\n",
       "    .dataframe tbody tr th:only-of-type {\n",
       "        vertical-align: middle;\n",
       "    }\n",
       "\n",
       "    .dataframe tbody tr th {\n",
       "        vertical-align: top;\n",
       "    }\n",
       "\n",
       "    .dataframe thead th {\n",
       "        text-align: right;\n",
       "    }\n",
       "</style>\n",
       "<table border=\"1\" class=\"dataframe\">\n",
       "  <thead>\n",
       "    <tr style=\"text-align: right;\">\n",
       "      <th></th>\n",
       "      <th>Airline</th>\n",
       "      <th>Date_of_Journey</th>\n",
       "      <th>Source</th>\n",
       "      <th>Destination</th>\n",
       "      <th>Route</th>\n",
       "      <th>Dep_Time</th>\n",
       "      <th>Arrival_Time</th>\n",
       "      <th>Duration</th>\n",
       "      <th>Total_Stops</th>\n",
       "      <th>Additional_Info</th>\n",
       "      <th>Price</th>\n",
       "    </tr>\n",
       "  </thead>\n",
       "  <tbody>\n",
       "    <tr>\n",
       "      <th>0</th>\n",
       "      <td>IndiGo</td>\n",
       "      <td>24/03/2019</td>\n",
       "      <td>Banglore</td>\n",
       "      <td>New Delhi</td>\n",
       "      <td>BLR → DEL</td>\n",
       "      <td>22:20</td>\n",
       "      <td>01:10 22 Mar</td>\n",
       "      <td>2h 50m</td>\n",
       "      <td>non-stop</td>\n",
       "      <td>No info</td>\n",
       "      <td>3897</td>\n",
       "    </tr>\n",
       "    <tr>\n",
       "      <th>1</th>\n",
       "      <td>Air India</td>\n",
       "      <td>1/05/2019</td>\n",
       "      <td>Kolkata</td>\n",
       "      <td>Banglore</td>\n",
       "      <td>CCU → IXR → BBI → BLR</td>\n",
       "      <td>05:50</td>\n",
       "      <td>13:15</td>\n",
       "      <td>7h 25m</td>\n",
       "      <td>2 stops</td>\n",
       "      <td>No info</td>\n",
       "      <td>7662</td>\n",
       "    </tr>\n",
       "    <tr>\n",
       "      <th>2</th>\n",
       "      <td>Jet Airways</td>\n",
       "      <td>9/06/2019</td>\n",
       "      <td>Delhi</td>\n",
       "      <td>Cochin</td>\n",
       "      <td>DEL → LKO → BOM → COK</td>\n",
       "      <td>09:25</td>\n",
       "      <td>04:25 10 Jun</td>\n",
       "      <td>19h</td>\n",
       "      <td>2 stops</td>\n",
       "      <td>No info</td>\n",
       "      <td>13882</td>\n",
       "    </tr>\n",
       "    <tr>\n",
       "      <th>3</th>\n",
       "      <td>IndiGo</td>\n",
       "      <td>12/05/2019</td>\n",
       "      <td>Kolkata</td>\n",
       "      <td>Banglore</td>\n",
       "      <td>CCU → NAG → BLR</td>\n",
       "      <td>18:05</td>\n",
       "      <td>23:30</td>\n",
       "      <td>5h 25m</td>\n",
       "      <td>1 stop</td>\n",
       "      <td>No info</td>\n",
       "      <td>6218</td>\n",
       "    </tr>\n",
       "    <tr>\n",
       "      <th>4</th>\n",
       "      <td>IndiGo</td>\n",
       "      <td>01/03/2019</td>\n",
       "      <td>Banglore</td>\n",
       "      <td>New Delhi</td>\n",
       "      <td>BLR → NAG → DEL</td>\n",
       "      <td>16:50</td>\n",
       "      <td>21:35</td>\n",
       "      <td>4h 45m</td>\n",
       "      <td>1 stop</td>\n",
       "      <td>No info</td>\n",
       "      <td>13302</td>\n",
       "    </tr>\n",
       "  </tbody>\n",
       "</table>\n",
       "</div>"
      ],
      "text/plain": [
       "       Airline Date_of_Journey    Source Destination                  Route  \\\n",
       "0       IndiGo      24/03/2019  Banglore   New Delhi              BLR → DEL   \n",
       "1    Air India       1/05/2019   Kolkata    Banglore  CCU → IXR → BBI → BLR   \n",
       "2  Jet Airways       9/06/2019     Delhi      Cochin  DEL → LKO → BOM → COK   \n",
       "3       IndiGo      12/05/2019   Kolkata    Banglore        CCU → NAG → BLR   \n",
       "4       IndiGo      01/03/2019  Banglore   New Delhi        BLR → NAG → DEL   \n",
       "\n",
       "  Dep_Time  Arrival_Time Duration Total_Stops Additional_Info  Price  \n",
       "0    22:20  01:10 22 Mar   2h 50m    non-stop         No info   3897  \n",
       "1    05:50         13:15   7h 25m     2 stops         No info   7662  \n",
       "2    09:25  04:25 10 Jun      19h     2 stops         No info  13882  \n",
       "3    18:05         23:30   5h 25m      1 stop         No info   6218  \n",
       "4    16:50         21:35   4h 45m      1 stop         No info  13302  "
      ]
     },
     "execution_count": 2,
     "metadata": {},
     "output_type": "execute_result"
    }
   ],
   "source": [
    "df_train = pd.read_excel(r'Flight_Price_Train.xlsx')\n",
    "df_train.head()"
   ]
  },
  {
   "cell_type": "markdown",
   "id": "cbe11e7c",
   "metadata": {},
   "source": [
    "### Q1 Perform Feature Engineering "
   ]
  },
  {
   "cell_type": "markdown",
   "id": "1192988b",
   "metadata": {},
   "source": [
    "#### a) Perform basic exploration like checking for top 5 records, shape, statistical info, duplicates, Null values etc. "
   ]
  },
  {
   "cell_type": "code",
   "execution_count": 3,
   "id": "515df753",
   "metadata": {},
   "outputs": [
    {
     "data": {
      "text/html": [
       "<div>\n",
       "<style scoped>\n",
       "    .dataframe tbody tr th:only-of-type {\n",
       "        vertical-align: middle;\n",
       "    }\n",
       "\n",
       "    .dataframe tbody tr th {\n",
       "        vertical-align: top;\n",
       "    }\n",
       "\n",
       "    .dataframe thead th {\n",
       "        text-align: right;\n",
       "    }\n",
       "</style>\n",
       "<table border=\"1\" class=\"dataframe\">\n",
       "  <thead>\n",
       "    <tr style=\"text-align: right;\">\n",
       "      <th></th>\n",
       "      <th>Airline</th>\n",
       "      <th>Date_of_Journey</th>\n",
       "      <th>Source</th>\n",
       "      <th>Destination</th>\n",
       "      <th>Route</th>\n",
       "      <th>Dep_Time</th>\n",
       "      <th>Arrival_Time</th>\n",
       "      <th>Duration</th>\n",
       "      <th>Total_Stops</th>\n",
       "      <th>Additional_Info</th>\n",
       "      <th>Price</th>\n",
       "    </tr>\n",
       "  </thead>\n",
       "  <tbody>\n",
       "    <tr>\n",
       "      <th>0</th>\n",
       "      <td>IndiGo</td>\n",
       "      <td>24/03/2019</td>\n",
       "      <td>Banglore</td>\n",
       "      <td>New Delhi</td>\n",
       "      <td>BLR → DEL</td>\n",
       "      <td>22:20</td>\n",
       "      <td>01:10 22 Mar</td>\n",
       "      <td>2h 50m</td>\n",
       "      <td>non-stop</td>\n",
       "      <td>No info</td>\n",
       "      <td>3897</td>\n",
       "    </tr>\n",
       "    <tr>\n",
       "      <th>1</th>\n",
       "      <td>Air India</td>\n",
       "      <td>1/05/2019</td>\n",
       "      <td>Kolkata</td>\n",
       "      <td>Banglore</td>\n",
       "      <td>CCU → IXR → BBI → BLR</td>\n",
       "      <td>05:50</td>\n",
       "      <td>13:15</td>\n",
       "      <td>7h 25m</td>\n",
       "      <td>2 stops</td>\n",
       "      <td>No info</td>\n",
       "      <td>7662</td>\n",
       "    </tr>\n",
       "    <tr>\n",
       "      <th>2</th>\n",
       "      <td>Jet Airways</td>\n",
       "      <td>9/06/2019</td>\n",
       "      <td>Delhi</td>\n",
       "      <td>Cochin</td>\n",
       "      <td>DEL → LKO → BOM → COK</td>\n",
       "      <td>09:25</td>\n",
       "      <td>04:25 10 Jun</td>\n",
       "      <td>19h</td>\n",
       "      <td>2 stops</td>\n",
       "      <td>No info</td>\n",
       "      <td>13882</td>\n",
       "    </tr>\n",
       "    <tr>\n",
       "      <th>3</th>\n",
       "      <td>IndiGo</td>\n",
       "      <td>12/05/2019</td>\n",
       "      <td>Kolkata</td>\n",
       "      <td>Banglore</td>\n",
       "      <td>CCU → NAG → BLR</td>\n",
       "      <td>18:05</td>\n",
       "      <td>23:30</td>\n",
       "      <td>5h 25m</td>\n",
       "      <td>1 stop</td>\n",
       "      <td>No info</td>\n",
       "      <td>6218</td>\n",
       "    </tr>\n",
       "    <tr>\n",
       "      <th>4</th>\n",
       "      <td>IndiGo</td>\n",
       "      <td>01/03/2019</td>\n",
       "      <td>Banglore</td>\n",
       "      <td>New Delhi</td>\n",
       "      <td>BLR → NAG → DEL</td>\n",
       "      <td>16:50</td>\n",
       "      <td>21:35</td>\n",
       "      <td>4h 45m</td>\n",
       "      <td>1 stop</td>\n",
       "      <td>No info</td>\n",
       "      <td>13302</td>\n",
       "    </tr>\n",
       "  </tbody>\n",
       "</table>\n",
       "</div>"
      ],
      "text/plain": [
       "       Airline Date_of_Journey    Source Destination                  Route  \\\n",
       "0       IndiGo      24/03/2019  Banglore   New Delhi              BLR → DEL   \n",
       "1    Air India       1/05/2019   Kolkata    Banglore  CCU → IXR → BBI → BLR   \n",
       "2  Jet Airways       9/06/2019     Delhi      Cochin  DEL → LKO → BOM → COK   \n",
       "3       IndiGo      12/05/2019   Kolkata    Banglore        CCU → NAG → BLR   \n",
       "4       IndiGo      01/03/2019  Banglore   New Delhi        BLR → NAG → DEL   \n",
       "\n",
       "  Dep_Time  Arrival_Time Duration Total_Stops Additional_Info  Price  \n",
       "0    22:20  01:10 22 Mar   2h 50m    non-stop         No info   3897  \n",
       "1    05:50         13:15   7h 25m     2 stops         No info   7662  \n",
       "2    09:25  04:25 10 Jun      19h     2 stops         No info  13882  \n",
       "3    18:05         23:30   5h 25m      1 stop         No info   6218  \n",
       "4    16:50         21:35   4h 45m      1 stop         No info  13302  "
      ]
     },
     "execution_count": 3,
     "metadata": {},
     "output_type": "execute_result"
    }
   ],
   "source": [
    "df_train.head(5)"
   ]
  },
  {
   "cell_type": "code",
   "execution_count": 4,
   "id": "6bb3e138",
   "metadata": {},
   "outputs": [
    {
     "data": {
      "text/plain": [
       "(10683, 11)"
      ]
     },
     "execution_count": 4,
     "metadata": {},
     "output_type": "execute_result"
    }
   ],
   "source": [
    "df_train.shape"
   ]
  },
  {
   "cell_type": "code",
   "execution_count": 5,
   "id": "0759761a",
   "metadata": {},
   "outputs": [
    {
     "name": "stdout",
     "output_type": "stream",
     "text": [
      "<class 'pandas.core.frame.DataFrame'>\n",
      "RangeIndex: 10683 entries, 0 to 10682\n",
      "Data columns (total 11 columns):\n",
      " #   Column           Non-Null Count  Dtype \n",
      "---  ------           --------------  ----- \n",
      " 0   Airline          10683 non-null  object\n",
      " 1   Date_of_Journey  10683 non-null  object\n",
      " 2   Source           10683 non-null  object\n",
      " 3   Destination      10683 non-null  object\n",
      " 4   Route            10682 non-null  object\n",
      " 5   Dep_Time         10683 non-null  object\n",
      " 6   Arrival_Time     10683 non-null  object\n",
      " 7   Duration         10683 non-null  object\n",
      " 8   Total_Stops      10682 non-null  object\n",
      " 9   Additional_Info  10683 non-null  object\n",
      " 10  Price            10683 non-null  int64 \n",
      "dtypes: int64(1), object(10)\n",
      "memory usage: 918.2+ KB\n"
     ]
    }
   ],
   "source": [
    "df_train.info()"
   ]
  },
  {
   "cell_type": "code",
   "execution_count": 6,
   "id": "7bb9e2f4",
   "metadata": {},
   "outputs": [
    {
     "data": {
      "text/plain": [
       "220"
      ]
     },
     "execution_count": 6,
     "metadata": {},
     "output_type": "execute_result"
    }
   ],
   "source": [
    "df_train.duplicated().sum()"
   ]
  },
  {
   "cell_type": "code",
   "execution_count": 7,
   "id": "949e59b5",
   "metadata": {},
   "outputs": [
    {
     "data": {
      "text/plain": [
       "Airline            0\n",
       "Date_of_Journey    0\n",
       "Source             0\n",
       "Destination        0\n",
       "Route              1\n",
       "Dep_Time           0\n",
       "Arrival_Time       0\n",
       "Duration           0\n",
       "Total_Stops        1\n",
       "Additional_Info    0\n",
       "Price              0\n",
       "dtype: int64"
      ]
     },
     "execution_count": 7,
     "metadata": {},
     "output_type": "execute_result"
    }
   ],
   "source": [
    "df_train.isna().sum()"
   ]
  },
  {
   "cell_type": "markdown",
   "id": "8495aef4",
   "metadata": {},
   "source": [
    "#### b) Extract Date, Month, Year from  Date of Journey column"
   ]
  },
  {
   "cell_type": "code",
   "execution_count": 8,
   "id": "7b37f2ca",
   "metadata": {
    "scrolled": true
   },
   "outputs": [
    {
     "data": {
      "text/html": [
       "<div>\n",
       "<style scoped>\n",
       "    .dataframe tbody tr th:only-of-type {\n",
       "        vertical-align: middle;\n",
       "    }\n",
       "\n",
       "    .dataframe tbody tr th {\n",
       "        vertical-align: top;\n",
       "    }\n",
       "\n",
       "    .dataframe thead th {\n",
       "        text-align: right;\n",
       "    }\n",
       "</style>\n",
       "<table border=\"1\" class=\"dataframe\">\n",
       "  <thead>\n",
       "    <tr style=\"text-align: right;\">\n",
       "      <th></th>\n",
       "      <th>Airline</th>\n",
       "      <th>Date_of_Journey</th>\n",
       "      <th>Source</th>\n",
       "      <th>Destination</th>\n",
       "      <th>Route</th>\n",
       "      <th>Dep_Time</th>\n",
       "      <th>Arrival_Time</th>\n",
       "      <th>Duration</th>\n",
       "      <th>Total_Stops</th>\n",
       "      <th>Additional_Info</th>\n",
       "      <th>Price</th>\n",
       "      <th>Journey_Date</th>\n",
       "      <th>Journey_Month</th>\n",
       "      <th>Journey_Year</th>\n",
       "    </tr>\n",
       "  </thead>\n",
       "  <tbody>\n",
       "    <tr>\n",
       "      <th>0</th>\n",
       "      <td>IndiGo</td>\n",
       "      <td>2019-03-24</td>\n",
       "      <td>Banglore</td>\n",
       "      <td>New Delhi</td>\n",
       "      <td>BLR → DEL</td>\n",
       "      <td>22:20</td>\n",
       "      <td>01:10 22 Mar</td>\n",
       "      <td>2h 50m</td>\n",
       "      <td>non-stop</td>\n",
       "      <td>No info</td>\n",
       "      <td>3897</td>\n",
       "      <td>24</td>\n",
       "      <td>3</td>\n",
       "      <td>2019</td>\n",
       "    </tr>\n",
       "    <tr>\n",
       "      <th>1</th>\n",
       "      <td>Air India</td>\n",
       "      <td>2019-05-01</td>\n",
       "      <td>Kolkata</td>\n",
       "      <td>Banglore</td>\n",
       "      <td>CCU → IXR → BBI → BLR</td>\n",
       "      <td>05:50</td>\n",
       "      <td>13:15</td>\n",
       "      <td>7h 25m</td>\n",
       "      <td>2 stops</td>\n",
       "      <td>No info</td>\n",
       "      <td>7662</td>\n",
       "      <td>1</td>\n",
       "      <td>5</td>\n",
       "      <td>2019</td>\n",
       "    </tr>\n",
       "    <tr>\n",
       "      <th>2</th>\n",
       "      <td>Jet Airways</td>\n",
       "      <td>2019-06-09</td>\n",
       "      <td>Delhi</td>\n",
       "      <td>Cochin</td>\n",
       "      <td>DEL → LKO → BOM → COK</td>\n",
       "      <td>09:25</td>\n",
       "      <td>04:25 10 Jun</td>\n",
       "      <td>19h</td>\n",
       "      <td>2 stops</td>\n",
       "      <td>No info</td>\n",
       "      <td>13882</td>\n",
       "      <td>9</td>\n",
       "      <td>6</td>\n",
       "      <td>2019</td>\n",
       "    </tr>\n",
       "    <tr>\n",
       "      <th>3</th>\n",
       "      <td>IndiGo</td>\n",
       "      <td>2019-05-12</td>\n",
       "      <td>Kolkata</td>\n",
       "      <td>Banglore</td>\n",
       "      <td>CCU → NAG → BLR</td>\n",
       "      <td>18:05</td>\n",
       "      <td>23:30</td>\n",
       "      <td>5h 25m</td>\n",
       "      <td>1 stop</td>\n",
       "      <td>No info</td>\n",
       "      <td>6218</td>\n",
       "      <td>12</td>\n",
       "      <td>5</td>\n",
       "      <td>2019</td>\n",
       "    </tr>\n",
       "    <tr>\n",
       "      <th>4</th>\n",
       "      <td>IndiGo</td>\n",
       "      <td>2019-03-01</td>\n",
       "      <td>Banglore</td>\n",
       "      <td>New Delhi</td>\n",
       "      <td>BLR → NAG → DEL</td>\n",
       "      <td>16:50</td>\n",
       "      <td>21:35</td>\n",
       "      <td>4h 45m</td>\n",
       "      <td>1 stop</td>\n",
       "      <td>No info</td>\n",
       "      <td>13302</td>\n",
       "      <td>1</td>\n",
       "      <td>3</td>\n",
       "      <td>2019</td>\n",
       "    </tr>\n",
       "  </tbody>\n",
       "</table>\n",
       "</div>"
      ],
      "text/plain": [
       "       Airline Date_of_Journey    Source Destination                  Route  \\\n",
       "0       IndiGo      2019-03-24  Banglore   New Delhi              BLR → DEL   \n",
       "1    Air India      2019-05-01   Kolkata    Banglore  CCU → IXR → BBI → BLR   \n",
       "2  Jet Airways      2019-06-09     Delhi      Cochin  DEL → LKO → BOM → COK   \n",
       "3       IndiGo      2019-05-12   Kolkata    Banglore        CCU → NAG → BLR   \n",
       "4       IndiGo      2019-03-01  Banglore   New Delhi        BLR → NAG → DEL   \n",
       "\n",
       "  Dep_Time  Arrival_Time Duration Total_Stops Additional_Info  Price  \\\n",
       "0    22:20  01:10 22 Mar   2h 50m    non-stop         No info   3897   \n",
       "1    05:50         13:15   7h 25m     2 stops         No info   7662   \n",
       "2    09:25  04:25 10 Jun      19h     2 stops         No info  13882   \n",
       "3    18:05         23:30   5h 25m      1 stop         No info   6218   \n",
       "4    16:50         21:35   4h 45m      1 stop         No info  13302   \n",
       "\n",
       "   Journey_Date  Journey_Month  Journey_Year  \n",
       "0            24              3          2019  \n",
       "1             1              5          2019  \n",
       "2             9              6          2019  \n",
       "3            12              5          2019  \n",
       "4             1              3          2019  "
      ]
     },
     "execution_count": 8,
     "metadata": {},
     "output_type": "execute_result"
    }
   ],
   "source": [
    "df_train['Date_of_Journey'] = pd.to_datetime(df_train['Date_of_Journey'], format='%d/%m/%Y')\n",
    "df_train['Journey_Date'] = df_train['Date_of_Journey'].dt.day\n",
    "df_train['Journey_Month'] = df_train['Date_of_Journey'].dt.month\n",
    "df_train['Journey_Year'] = df_train['Date_of_Journey'].dt.year\n",
    "\n",
    "df_train.head()"
   ]
  },
  {
   "cell_type": "markdown",
   "id": "45761dd6",
   "metadata": {},
   "source": [
    "### Q2 Perform Exploratory Data Analysis (EDA) tasks"
   ]
  },
  {
   "cell_type": "markdown",
   "id": "0f9e4733",
   "metadata": {},
   "source": [
    "#### a) Which airline is most preferred airline"
   ]
  },
  {
   "cell_type": "code",
   "execution_count": 9,
   "id": "57752583",
   "metadata": {},
   "outputs": [
    {
     "name": "stdout",
     "output_type": "stream",
     "text": [
      "Most preferred airline: Jet Airways\n"
     ]
    }
   ],
   "source": [
    "most_preferred_airline = df_train['Airline'].value_counts().idxmax()\n",
    "print(\"Most preferred airline:\", most_preferred_airline)"
   ]
  },
  {
   "cell_type": "markdown",
   "id": "92b167c6",
   "metadata": {},
   "source": [
    "#### b) Find the majority of the flights take off from which source"
   ]
  },
  {
   "cell_type": "code",
   "execution_count": 10,
   "id": "7c11ceea",
   "metadata": {},
   "outputs": [
    {
     "name": "stdout",
     "output_type": "stream",
     "text": [
      "Majority of flights take off from: Delhi\n"
     ]
    }
   ],
   "source": [
    "majority_source = df_train['Source'].value_counts().idxmax()\n",
    "print(\"Majority of flights take off from:\", majority_source)"
   ]
  },
  {
   "cell_type": "markdown",
   "id": "bd178c1a",
   "metadata": {},
   "source": [
    "#### c) Find maximum flights land in which destination"
   ]
  },
  {
   "cell_type": "code",
   "execution_count": 11,
   "id": "9bad410b",
   "metadata": {},
   "outputs": [
    {
     "name": "stdout",
     "output_type": "stream",
     "text": [
      "Maximum flights land in destination: Cochin\n"
     ]
    }
   ],
   "source": [
    "max_land_destination = df_train['Destination'].value_counts().idxmax()\n",
    "print(\"Maximum flights land in destination:\", max_land_destination)"
   ]
  },
  {
   "cell_type": "markdown",
   "id": "fd6e4c36",
   "metadata": {},
   "source": [
    "### Q3 Compare independent features with Target feature to check the impact on price"
   ]
  },
  {
   "cell_type": "markdown",
   "id": "01fabb07",
   "metadata": {},
   "source": [
    "#### a) Which airline has the highest price "
   ]
  },
  {
   "cell_type": "code",
   "execution_count": 12,
   "id": "19df7bc3",
   "metadata": {},
   "outputs": [
    {
     "name": "stdout",
     "output_type": "stream",
     "text": [
      "Airline with the highest price: Jet Airways Business\n",
      "Highest price: 79512\n"
     ]
    }
   ],
   "source": [
    "airline_highest_price = df_train.loc[df_train['Price'].idxmax(), 'Airline']\n",
    "highest_price = df_train['Price'].max()\n",
    "print(\"Airline with the highest price:\", airline_highest_price)\n",
    "print(\"Highest price:\", highest_price)"
   ]
  },
  {
   "cell_type": "markdown",
   "id": "b9a11ea8",
   "metadata": {},
   "source": [
    "#### b) Check if the business class flights are high price or low and find only those flights which price is higher than 50k\n"
   ]
  },
  {
   "cell_type": "code",
   "execution_count": 13,
   "id": "587dbb2b",
   "metadata": {},
   "outputs": [
    {
     "name": "stdout",
     "output_type": "stream",
     "text": [
      "\n",
      "Business class flights with price higher than 50k:\n",
      "                    Airline Date_of_Journey    Source Destination  \\\n",
      "2924   Jet Airways Business      2019-03-01  Banglore   New Delhi   \n",
      "5372   Jet Airways Business      2019-03-01  Banglore   New Delhi   \n",
      "10364  Jet Airways Business      2019-03-01  Banglore   New Delhi   \n",
      "\n",
      "                 Route Dep_Time Arrival_Time Duration Total_Stops  \\\n",
      "2924   BLR → BOM → DEL    05:45        11:25   5h 40m      1 stop   \n",
      "5372   BLR → BOM → DEL    05:45        12:25   6h 40m      1 stop   \n",
      "10364  BLR → MAA → DEL    09:45        14:25   4h 40m      1 stop   \n",
      "\n",
      "      Additional_Info  Price  Journey_Date  Journey_Month  Journey_Year  \n",
      "2924   Business class  79512             1              3          2019  \n",
      "5372   Business class  62427             1              3          2019  \n",
      "10364  Business class  57209             1              3          2019  \n"
     ]
    }
   ],
   "source": [
    "business_class_flights = df_train[df_train['Additional_Info'].str.contains('Business', case=False)]\n",
    "high_price_business_flights = business_class_flights[business_class_flights['Price'] > 50000]\n",
    "print(\"\\nBusiness class flights with price higher than 50k:\")\n",
    "print(high_price_business_flights)"
   ]
  },
  {
   "cell_type": "markdown",
   "id": "d25eb9ff",
   "metadata": {},
   "source": [
    "### Q4 Perform encoding for the required features according to the data."
   ]
  },
  {
   "cell_type": "markdown",
   "id": "45b2dfba",
   "metadata": {},
   "source": [
    "#### Calling the columns having dtype as object"
   ]
  },
  {
   "cell_type": "code",
   "execution_count": 14,
   "id": "886ec243",
   "metadata": {},
   "outputs": [
    {
     "data": {
      "text/plain": [
       "['Airline',\n",
       " 'Source',\n",
       " 'Destination',\n",
       " 'Route',\n",
       " 'Dep_Time',\n",
       " 'Arrival_Time',\n",
       " 'Duration',\n",
       " 'Total_Stops',\n",
       " 'Additional_Info']"
      ]
     },
     "execution_count": 14,
     "metadata": {},
     "output_type": "execute_result"
    }
   ],
   "source": [
    "colname=[]\n",
    "for x in df_train.columns:\n",
    "    if df_train[x].dtype=='object':\n",
    "        colname.append(x)\n",
    "colname"
   ]
  },
  {
   "cell_type": "markdown",
   "id": "d0195869",
   "metadata": {},
   "source": [
    "#### Converting Categorical Variables into Numerical Variables by using LabelEncoder()"
   ]
  },
  {
   "cell_type": "code",
   "execution_count": 15,
   "id": "77bf20dd",
   "metadata": {},
   "outputs": [],
   "source": [
    "from sklearn.preprocessing import LabelEncoder\n",
    " \n",
    "le=LabelEncoder()\n",
    " \n",
    "for x in colname:\n",
    "    df_train[x]=le.fit_transform(df_train[x])"
   ]
  },
  {
   "cell_type": "code",
   "execution_count": 16,
   "id": "98b81f11",
   "metadata": {},
   "outputs": [
    {
     "data": {
      "text/html": [
       "<div>\n",
       "<style scoped>\n",
       "    .dataframe tbody tr th:only-of-type {\n",
       "        vertical-align: middle;\n",
       "    }\n",
       "\n",
       "    .dataframe tbody tr th {\n",
       "        vertical-align: top;\n",
       "    }\n",
       "\n",
       "    .dataframe thead th {\n",
       "        text-align: right;\n",
       "    }\n",
       "</style>\n",
       "<table border=\"1\" class=\"dataframe\">\n",
       "  <thead>\n",
       "    <tr style=\"text-align: right;\">\n",
       "      <th></th>\n",
       "      <th>Airline</th>\n",
       "      <th>Date_of_Journey</th>\n",
       "      <th>Source</th>\n",
       "      <th>Destination</th>\n",
       "      <th>Route</th>\n",
       "      <th>Dep_Time</th>\n",
       "      <th>Arrival_Time</th>\n",
       "      <th>Duration</th>\n",
       "      <th>Total_Stops</th>\n",
       "      <th>Additional_Info</th>\n",
       "      <th>Price</th>\n",
       "      <th>Journey_Date</th>\n",
       "      <th>Journey_Month</th>\n",
       "      <th>Journey_Year</th>\n",
       "    </tr>\n",
       "  </thead>\n",
       "  <tbody>\n",
       "    <tr>\n",
       "      <th>0</th>\n",
       "      <td>3</td>\n",
       "      <td>2019-03-24</td>\n",
       "      <td>0</td>\n",
       "      <td>5</td>\n",
       "      <td>18</td>\n",
       "      <td>211</td>\n",
       "      <td>233</td>\n",
       "      <td>240</td>\n",
       "      <td>4</td>\n",
       "      <td>8</td>\n",
       "      <td>3897</td>\n",
       "      <td>24</td>\n",
       "      <td>3</td>\n",
       "      <td>2019</td>\n",
       "    </tr>\n",
       "    <tr>\n",
       "      <th>1</th>\n",
       "      <td>1</td>\n",
       "      <td>2019-05-01</td>\n",
       "      <td>3</td>\n",
       "      <td>0</td>\n",
       "      <td>84</td>\n",
       "      <td>31</td>\n",
       "      <td>906</td>\n",
       "      <td>336</td>\n",
       "      <td>1</td>\n",
       "      <td>8</td>\n",
       "      <td>7662</td>\n",
       "      <td>1</td>\n",
       "      <td>5</td>\n",
       "      <td>2019</td>\n",
       "    </tr>\n",
       "    <tr>\n",
       "      <th>2</th>\n",
       "      <td>4</td>\n",
       "      <td>2019-06-09</td>\n",
       "      <td>2</td>\n",
       "      <td>1</td>\n",
       "      <td>118</td>\n",
       "      <td>70</td>\n",
       "      <td>413</td>\n",
       "      <td>106</td>\n",
       "      <td>1</td>\n",
       "      <td>8</td>\n",
       "      <td>13882</td>\n",
       "      <td>9</td>\n",
       "      <td>6</td>\n",
       "      <td>2019</td>\n",
       "    </tr>\n",
       "    <tr>\n",
       "      <th>3</th>\n",
       "      <td>3</td>\n",
       "      <td>2019-05-12</td>\n",
       "      <td>3</td>\n",
       "      <td>0</td>\n",
       "      <td>91</td>\n",
       "      <td>164</td>\n",
       "      <td>1324</td>\n",
       "      <td>311</td>\n",
       "      <td>0</td>\n",
       "      <td>8</td>\n",
       "      <td>6218</td>\n",
       "      <td>12</td>\n",
       "      <td>5</td>\n",
       "      <td>2019</td>\n",
       "    </tr>\n",
       "    <tr>\n",
       "      <th>4</th>\n",
       "      <td>3</td>\n",
       "      <td>2019-03-01</td>\n",
       "      <td>0</td>\n",
       "      <td>5</td>\n",
       "      <td>29</td>\n",
       "      <td>149</td>\n",
       "      <td>1237</td>\n",
       "      <td>303</td>\n",
       "      <td>0</td>\n",
       "      <td>8</td>\n",
       "      <td>13302</td>\n",
       "      <td>1</td>\n",
       "      <td>3</td>\n",
       "      <td>2019</td>\n",
       "    </tr>\n",
       "  </tbody>\n",
       "</table>\n",
       "</div>"
      ],
      "text/plain": [
       "   Airline Date_of_Journey  Source  Destination  Route  Dep_Time  \\\n",
       "0        3      2019-03-24       0            5     18       211   \n",
       "1        1      2019-05-01       3            0     84        31   \n",
       "2        4      2019-06-09       2            1    118        70   \n",
       "3        3      2019-05-12       3            0     91       164   \n",
       "4        3      2019-03-01       0            5     29       149   \n",
       "\n",
       "   Arrival_Time  Duration  Total_Stops  Additional_Info  Price  Journey_Date  \\\n",
       "0           233       240            4                8   3897            24   \n",
       "1           906       336            1                8   7662             1   \n",
       "2           413       106            1                8  13882             9   \n",
       "3          1324       311            0                8   6218            12   \n",
       "4          1237       303            0                8  13302             1   \n",
       "\n",
       "   Journey_Month  Journey_Year  \n",
       "0              3          2019  \n",
       "1              5          2019  \n",
       "2              6          2019  \n",
       "3              5          2019  \n",
       "4              3          2019  "
      ]
     },
     "execution_count": 16,
     "metadata": {},
     "output_type": "execute_result"
    }
   ],
   "source": [
    "df_train.head()"
   ]
  },
  {
   "cell_type": "code",
   "execution_count": 17,
   "id": "ffb7034f",
   "metadata": {},
   "outputs": [],
   "source": [
    "df_train.dropna(inplace=True)"
   ]
  },
  {
   "cell_type": "code",
   "execution_count": 18,
   "id": "998fb48e",
   "metadata": {},
   "outputs": [
    {
     "data": {
      "text/plain": [
       "(10683, 14)"
      ]
     },
     "execution_count": 18,
     "metadata": {},
     "output_type": "execute_result"
    }
   ],
   "source": [
    "df_train.shape"
   ]
  },
  {
   "cell_type": "markdown",
   "id": "ba638d4d",
   "metadata": {},
   "source": [
    "### Q5\tBuild multiple model by using different algorithm such as Linear Regression, Decision Tree, and Random                 Forest etc. and check the performance of your model.\t"
   ]
  },
  {
   "cell_type": "markdown",
   "id": "4250282b",
   "metadata": {},
   "source": [
    "#### Dropping the null values"
   ]
  },
  {
   "cell_type": "code",
   "execution_count": 19,
   "id": "c936df47",
   "metadata": {},
   "outputs": [
    {
     "data": {
      "text/plain": [
       "Airline            0\n",
       "Date_of_Journey    0\n",
       "Source             0\n",
       "Destination        0\n",
       "Route              0\n",
       "Dep_Time           0\n",
       "Arrival_Time       0\n",
       "Duration           0\n",
       "Total_Stops        0\n",
       "Additional_Info    0\n",
       "Price              0\n",
       "Journey_Date       0\n",
       "Journey_Month      0\n",
       "Journey_Year       0\n",
       "dtype: int64"
      ]
     },
     "execution_count": 19,
     "metadata": {},
     "output_type": "execute_result"
    }
   ],
   "source": [
    "df_train.isna().sum()"
   ]
  },
  {
   "cell_type": "markdown",
   "id": "ff2377b1",
   "metadata": {},
   "source": [
    "#### Dropping the Duplicates Value"
   ]
  },
  {
   "cell_type": "code",
   "execution_count": 20,
   "id": "27e29a88",
   "metadata": {},
   "outputs": [],
   "source": [
    "df_train.drop_duplicates(inplace=True)"
   ]
  },
  {
   "cell_type": "code",
   "execution_count": 21,
   "id": "6aff6445",
   "metadata": {},
   "outputs": [
    {
     "data": {
      "text/plain": [
       "0"
      ]
     },
     "execution_count": 21,
     "metadata": {},
     "output_type": "execute_result"
    }
   ],
   "source": [
    "df_train.duplicated().sum()"
   ]
  },
  {
   "cell_type": "markdown",
   "id": "a999bcf1",
   "metadata": {},
   "source": [
    "#### Dropping the Date_of_Journey Column"
   ]
  },
  {
   "cell_type": "code",
   "execution_count": 22,
   "id": "fefaea1b",
   "metadata": {},
   "outputs": [
    {
     "data": {
      "text/html": [
       "<div>\n",
       "<style scoped>\n",
       "    .dataframe tbody tr th:only-of-type {\n",
       "        vertical-align: middle;\n",
       "    }\n",
       "\n",
       "    .dataframe tbody tr th {\n",
       "        vertical-align: top;\n",
       "    }\n",
       "\n",
       "    .dataframe thead th {\n",
       "        text-align: right;\n",
       "    }\n",
       "</style>\n",
       "<table border=\"1\" class=\"dataframe\">\n",
       "  <thead>\n",
       "    <tr style=\"text-align: right;\">\n",
       "      <th></th>\n",
       "      <th>Airline</th>\n",
       "      <th>Source</th>\n",
       "      <th>Destination</th>\n",
       "      <th>Route</th>\n",
       "      <th>Dep_Time</th>\n",
       "      <th>Arrival_Time</th>\n",
       "      <th>Duration</th>\n",
       "      <th>Total_Stops</th>\n",
       "      <th>Additional_Info</th>\n",
       "      <th>Price</th>\n",
       "      <th>Journey_Date</th>\n",
       "      <th>Journey_Month</th>\n",
       "      <th>Journey_Year</th>\n",
       "    </tr>\n",
       "  </thead>\n",
       "  <tbody>\n",
       "    <tr>\n",
       "      <th>0</th>\n",
       "      <td>3</td>\n",
       "      <td>0</td>\n",
       "      <td>5</td>\n",
       "      <td>18</td>\n",
       "      <td>211</td>\n",
       "      <td>233</td>\n",
       "      <td>240</td>\n",
       "      <td>4</td>\n",
       "      <td>8</td>\n",
       "      <td>3897</td>\n",
       "      <td>24</td>\n",
       "      <td>3</td>\n",
       "      <td>2019</td>\n",
       "    </tr>\n",
       "    <tr>\n",
       "      <th>1</th>\n",
       "      <td>1</td>\n",
       "      <td>3</td>\n",
       "      <td>0</td>\n",
       "      <td>84</td>\n",
       "      <td>31</td>\n",
       "      <td>906</td>\n",
       "      <td>336</td>\n",
       "      <td>1</td>\n",
       "      <td>8</td>\n",
       "      <td>7662</td>\n",
       "      <td>1</td>\n",
       "      <td>5</td>\n",
       "      <td>2019</td>\n",
       "    </tr>\n",
       "    <tr>\n",
       "      <th>2</th>\n",
       "      <td>4</td>\n",
       "      <td>2</td>\n",
       "      <td>1</td>\n",
       "      <td>118</td>\n",
       "      <td>70</td>\n",
       "      <td>413</td>\n",
       "      <td>106</td>\n",
       "      <td>1</td>\n",
       "      <td>8</td>\n",
       "      <td>13882</td>\n",
       "      <td>9</td>\n",
       "      <td>6</td>\n",
       "      <td>2019</td>\n",
       "    </tr>\n",
       "    <tr>\n",
       "      <th>3</th>\n",
       "      <td>3</td>\n",
       "      <td>3</td>\n",
       "      <td>0</td>\n",
       "      <td>91</td>\n",
       "      <td>164</td>\n",
       "      <td>1324</td>\n",
       "      <td>311</td>\n",
       "      <td>0</td>\n",
       "      <td>8</td>\n",
       "      <td>6218</td>\n",
       "      <td>12</td>\n",
       "      <td>5</td>\n",
       "      <td>2019</td>\n",
       "    </tr>\n",
       "    <tr>\n",
       "      <th>4</th>\n",
       "      <td>3</td>\n",
       "      <td>0</td>\n",
       "      <td>5</td>\n",
       "      <td>29</td>\n",
       "      <td>149</td>\n",
       "      <td>1237</td>\n",
       "      <td>303</td>\n",
       "      <td>0</td>\n",
       "      <td>8</td>\n",
       "      <td>13302</td>\n",
       "      <td>1</td>\n",
       "      <td>3</td>\n",
       "      <td>2019</td>\n",
       "    </tr>\n",
       "  </tbody>\n",
       "</table>\n",
       "</div>"
      ],
      "text/plain": [
       "   Airline  Source  Destination  Route  Dep_Time  Arrival_Time  Duration  \\\n",
       "0        3       0            5     18       211           233       240   \n",
       "1        1       3            0     84        31           906       336   \n",
       "2        4       2            1    118        70           413       106   \n",
       "3        3       3            0     91       164          1324       311   \n",
       "4        3       0            5     29       149          1237       303   \n",
       "\n",
       "   Total_Stops  Additional_Info  Price  Journey_Date  Journey_Month  \\\n",
       "0            4                8   3897            24              3   \n",
       "1            1                8   7662             1              5   \n",
       "2            1                8  13882             9              6   \n",
       "3            0                8   6218            12              5   \n",
       "4            0                8  13302             1              3   \n",
       "\n",
       "   Journey_Year  \n",
       "0          2019  \n",
       "1          2019  \n",
       "2          2019  \n",
       "3          2019  \n",
       "4          2019  "
      ]
     },
     "execution_count": 22,
     "metadata": {},
     "output_type": "execute_result"
    }
   ],
   "source": [
    "df_train.drop(columns='Date_of_Journey', inplace=True)\n",
    "df_train.head()"
   ]
  },
  {
   "cell_type": "markdown",
   "id": "1faf2de7",
   "metadata": {},
   "source": [
    "#### Create X and Y"
   ]
  },
  {
   "cell_type": "code",
   "execution_count": 23,
   "id": "400b8d9b",
   "metadata": {},
   "outputs": [],
   "source": [
    "X =df_train.drop(columns='Price')\n",
    "Y = df_train['Price']"
   ]
  },
  {
   "cell_type": "code",
   "execution_count": 24,
   "id": "d9a99cbe",
   "metadata": {},
   "outputs": [
    {
     "name": "stdout",
     "output_type": "stream",
     "text": [
      "(10463, 12)\n",
      "(10463,)\n"
     ]
    }
   ],
   "source": [
    "print(X.shape)\n",
    "print(Y.shape)\n",
    "Y=Y.astype(int)"
   ]
  },
  {
   "cell_type": "markdown",
   "id": "8838e4f4",
   "metadata": {},
   "source": [
    "### Standardization"
   ]
  },
  {
   "cell_type": "code",
   "execution_count": 25,
   "id": "4bc313df",
   "metadata": {},
   "outputs": [],
   "source": [
    "from sklearn.preprocessing import StandardScaler\n",
    "\n",
    "scaler= StandardScaler()\n",
    "\n",
    "scaler.fit(X)\n",
    "X= scaler.transform(X)"
   ]
  },
  {
   "cell_type": "markdown",
   "id": "7528fdc2",
   "metadata": {},
   "source": [
    "#### Split the data into training and testing sets"
   ]
  },
  {
   "cell_type": "code",
   "execution_count": 26,
   "id": "169423ec",
   "metadata": {},
   "outputs": [],
   "source": [
    "from sklearn.model_selection import train_test_split\n",
    " \n",
    "#Split the data into test and train\n",
    "X_train, X_test, Y_train, Y_test = train_test_split(X, Y, test_size=0.3, \n",
    "                                                    random_state=10)"
   ]
  },
  {
   "cell_type": "markdown",
   "id": "914546bd",
   "metadata": {},
   "source": [
    "#### Building the Model"
   ]
  },
  {
   "cell_type": "code",
   "execution_count": 27,
   "id": "ec675b62",
   "metadata": {},
   "outputs": [],
   "source": [
    "from sklearn.linear_model import LinearRegression\n",
    "from sklearn.tree import DecisionTreeRegressor\n",
    "from sklearn.ensemble import RandomForestRegressor\n",
    "from sklearn.metrics import mean_squared_error, mean_absolute_error, r2_score"
   ]
  },
  {
   "cell_type": "code",
   "execution_count": 28,
   "id": "3cfaae98",
   "metadata": {},
   "outputs": [],
   "source": [
    "# Initialize models\n",
    "linear_regression = LinearRegression()\n",
    "decision_tree = DecisionTreeRegressor(random_state=10)\n",
    "random_forest = RandomForestRegressor(random_state=10)"
   ]
  },
  {
   "cell_type": "code",
   "execution_count": 29,
   "id": "c4b90f49",
   "metadata": {},
   "outputs": [
    {
     "data": {
      "text/html": [
       "<style>#sk-container-id-1 {color: black;}#sk-container-id-1 pre{padding: 0;}#sk-container-id-1 div.sk-toggleable {background-color: white;}#sk-container-id-1 label.sk-toggleable__label {cursor: pointer;display: block;width: 100%;margin-bottom: 0;padding: 0.3em;box-sizing: border-box;text-align: center;}#sk-container-id-1 label.sk-toggleable__label-arrow:before {content: \"▸\";float: left;margin-right: 0.25em;color: #696969;}#sk-container-id-1 label.sk-toggleable__label-arrow:hover:before {color: black;}#sk-container-id-1 div.sk-estimator:hover label.sk-toggleable__label-arrow:before {color: black;}#sk-container-id-1 div.sk-toggleable__content {max-height: 0;max-width: 0;overflow: hidden;text-align: left;background-color: #f0f8ff;}#sk-container-id-1 div.sk-toggleable__content pre {margin: 0.2em;color: black;border-radius: 0.25em;background-color: #f0f8ff;}#sk-container-id-1 input.sk-toggleable__control:checked~div.sk-toggleable__content {max-height: 200px;max-width: 100%;overflow: auto;}#sk-container-id-1 input.sk-toggleable__control:checked~label.sk-toggleable__label-arrow:before {content: \"▾\";}#sk-container-id-1 div.sk-estimator input.sk-toggleable__control:checked~label.sk-toggleable__label {background-color: #d4ebff;}#sk-container-id-1 div.sk-label input.sk-toggleable__control:checked~label.sk-toggleable__label {background-color: #d4ebff;}#sk-container-id-1 input.sk-hidden--visually {border: 0;clip: rect(1px 1px 1px 1px);clip: rect(1px, 1px, 1px, 1px);height: 1px;margin: -1px;overflow: hidden;padding: 0;position: absolute;width: 1px;}#sk-container-id-1 div.sk-estimator {font-family: monospace;background-color: #f0f8ff;border: 1px dotted black;border-radius: 0.25em;box-sizing: border-box;margin-bottom: 0.5em;}#sk-container-id-1 div.sk-estimator:hover {background-color: #d4ebff;}#sk-container-id-1 div.sk-parallel-item::after {content: \"\";width: 100%;border-bottom: 1px solid gray;flex-grow: 1;}#sk-container-id-1 div.sk-label:hover label.sk-toggleable__label {background-color: #d4ebff;}#sk-container-id-1 div.sk-serial::before {content: \"\";position: absolute;border-left: 1px solid gray;box-sizing: border-box;top: 0;bottom: 0;left: 50%;z-index: 0;}#sk-container-id-1 div.sk-serial {display: flex;flex-direction: column;align-items: center;background-color: white;padding-right: 0.2em;padding-left: 0.2em;position: relative;}#sk-container-id-1 div.sk-item {position: relative;z-index: 1;}#sk-container-id-1 div.sk-parallel {display: flex;align-items: stretch;justify-content: center;background-color: white;position: relative;}#sk-container-id-1 div.sk-item::before, #sk-container-id-1 div.sk-parallel-item::before {content: \"\";position: absolute;border-left: 1px solid gray;box-sizing: border-box;top: 0;bottom: 0;left: 50%;z-index: -1;}#sk-container-id-1 div.sk-parallel-item {display: flex;flex-direction: column;z-index: 1;position: relative;background-color: white;}#sk-container-id-1 div.sk-parallel-item:first-child::after {align-self: flex-end;width: 50%;}#sk-container-id-1 div.sk-parallel-item:last-child::after {align-self: flex-start;width: 50%;}#sk-container-id-1 div.sk-parallel-item:only-child::after {width: 0;}#sk-container-id-1 div.sk-dashed-wrapped {border: 1px dashed gray;margin: 0 0.4em 0.5em 0.4em;box-sizing: border-box;padding-bottom: 0.4em;background-color: white;}#sk-container-id-1 div.sk-label label {font-family: monospace;font-weight: bold;display: inline-block;line-height: 1.2em;}#sk-container-id-1 div.sk-label-container {text-align: center;}#sk-container-id-1 div.sk-container {/* jupyter's `normalize.less` sets `[hidden] { display: none; }` but bootstrap.min.css set `[hidden] { display: none !important; }` so we also need the `!important` here to be able to override the default hidden behavior on the sphinx rendered scikit-learn.org. See: https://github.com/scikit-learn/scikit-learn/issues/21755 */display: inline-block !important;position: relative;}#sk-container-id-1 div.sk-text-repr-fallback {display: none;}</style><div id=\"sk-container-id-1\" class=\"sk-top-container\"><div class=\"sk-text-repr-fallback\"><pre>RandomForestRegressor(random_state=10)</pre><b>In a Jupyter environment, please rerun this cell to show the HTML representation or trust the notebook. <br />On GitHub, the HTML representation is unable to render, please try loading this page with nbviewer.org.</b></div><div class=\"sk-container\" hidden><div class=\"sk-item\"><div class=\"sk-estimator sk-toggleable\"><input class=\"sk-toggleable__control sk-hidden--visually\" id=\"sk-estimator-id-1\" type=\"checkbox\" checked><label for=\"sk-estimator-id-1\" class=\"sk-toggleable__label sk-toggleable__label-arrow\">RandomForestRegressor</label><div class=\"sk-toggleable__content\"><pre>RandomForestRegressor(random_state=10)</pre></div></div></div></div></div>"
      ],
      "text/plain": [
       "RandomForestRegressor(random_state=10)"
      ]
     },
     "execution_count": 29,
     "metadata": {},
     "output_type": "execute_result"
    }
   ],
   "source": [
    "# Train the models\n",
    "linear_regression.fit(X_train, Y_train)\n",
    "decision_tree.fit(X_train, Y_train)\n",
    "random_forest.fit(X_train, Y_train)"
   ]
  },
  {
   "cell_type": "code",
   "execution_count": 30,
   "id": "745e849e",
   "metadata": {},
   "outputs": [],
   "source": [
    "# Predict on the testing set\n",
    "y_pred_lr = linear_regression.predict(X_test)\n",
    "y_pred_dt = decision_tree.predict(X_test)\n",
    "y_pred_rf = random_forest.predict(X_test)"
   ]
  },
  {
   "cell_type": "code",
   "execution_count": 31,
   "id": "8f1016a5",
   "metadata": {
    "scrolled": true
   },
   "outputs": [
    {
     "name": "stdout",
     "output_type": "stream",
     "text": [
      "Linear Regression:\n",
      "RMSE: 3588.996445027715\n",
      "Mean Absolute Error: 2631.322446531292\n",
      "R^2 Score: 0.36815048789921\n",
      "Adj R-square: 0.36742491908148667\n",
      "\n",
      "Decision Tree:\n",
      "RMSE: 2252.3261153754975\n",
      "Mean Absolute Error: 733.8108739513644\n",
      "R^2 Score: 0.7511542986202399\n",
      "Adj R-square: 0.7508685427909043\n",
      "\n",
      "Random Forest:\n",
      "RMSE: 1525.5596333255369\n",
      "Mean Absolute Error: 663.0395091349485\n",
      "R^2 Score: 0.885836841560582\n",
      "Adj R-square: 0.8857057451106993\n"
     ]
    }
   ],
   "source": [
    "# Evaluate model performance\n",
    "def evaluate_model(y_true, y_pred):\n",
    "    rmse=np.sqrt(mean_squared_error(y_true, y_pred))\n",
    "    mae = mean_absolute_error(y_true, y_pred)\n",
    "    r2 = r2_score(y_true, y_pred)\n",
    "    adjusted_r_squared = 1 - (1-r2)*(len(Y)-1)/(len(Y)-X.shape[1]-1)\n",
    "    return rmse, mae, r2, adjusted_r_squared\n",
    "\n",
    "print(\"Linear Regression:\")\n",
    "rmse_lr, mae_lr, r2_lr, adjusted_r_squared_lr = evaluate_model(Y_test, y_pred_lr)\n",
    "print(\"RMSE:\", rmse_lr)\n",
    "print(\"Mean Absolute Error:\", mae_lr)\n",
    "print(\"R^2 Score:\", r2_lr)\n",
    "print(\"Adj R-square:\",adjusted_r_squared_lr)\n",
    "\n",
    "print(\"\\nDecision Tree:\")\n",
    "rmse_dt, mae_dt, r2_dt, adjusted_r_squared_dt = evaluate_model(Y_test, y_pred_dt)\n",
    "print(\"RMSE:\", rmse_dt)\n",
    "print(\"Mean Absolute Error:\", mae_dt)\n",
    "print(\"R^2 Score:\", r2_dt)\n",
    "print(\"Adj R-square:\",adjusted_r_squared_dt)\n",
    "\n",
    "print(\"\\nRandom Forest:\")\n",
    "rmse_rf, mae_rf, r2_rf, adjusted_r_squared_rf = evaluate_model(Y_test, y_pred_rf)\n",
    "print(\"RMSE:\", rmse_rf)\n",
    "print(\"Mean Absolute Error:\", mae_rf)\n",
    "print(\"R^2 Score:\", r2_rf)\n",
    "print(\"Adj R-square:\",adjusted_r_squared_rf)"
   ]
  },
  {
   "cell_type": "markdown",
   "id": "79dc4382",
   "metadata": {},
   "source": [
    "### Note: From the result, Random Forest gave the least RMSE compare to both Linear Regression and Decision Tree. So we will further continue to Optimize Random Forest inorder to increase the efficiency of the model."
   ]
  },
  {
   "cell_type": "code",
   "execution_count": 32,
   "id": "ad43907c",
   "metadata": {},
   "outputs": [
    {
     "name": "stdout",
     "output_type": "stream",
     "text": [
      "Best parameters for Random Forest: {'n_estimators': 200}\n"
     ]
    }
   ],
   "source": [
    "# Hyperparameter tuning for Random Forest\n",
    "from sklearn.model_selection import GridSearchCV\n",
    "param_grid_rf = {\n",
    "    'n_estimators': [100, 200, 300],\n",
    "    #'max_depth': [None, 10, 20, 30],\n",
    "    #'min_samples_split': [2, 5, 10],\n",
    "    #'min_samples_leaf': [1, 2, 4]\n",
    "}\n",
    "\n",
    "grid_search_rf = GridSearchCV(estimator=RandomForestRegressor(random_state=42),\n",
    "                              param_grid=param_grid_rf,\n",
    "                              scoring='neg_mean_squared_error',\n",
    "                              cv=5,\n",
    "                              n_jobs=-1)\n",
    "\n",
    "grid_search_rf.fit(X_train, Y_train)\n",
    "best_params_rf = grid_search_rf.best_params_\n",
    "best_estimator_rf = grid_search_rf.best_estimator_\n",
    "print(\"Best parameters for Random Forest:\", best_params_rf)"
   ]
  },
  {
   "cell_type": "code",
   "execution_count": 33,
   "id": "42502ac8",
   "metadata": {},
   "outputs": [
    {
     "data": {
      "text/plain": [
       "-2856154.288802453"
      ]
     },
     "execution_count": 33,
     "metadata": {},
     "output_type": "execute_result"
    }
   ],
   "source": [
    "grid_search_rf.best_score_ "
   ]
  },
  {
   "cell_type": "code",
   "execution_count": 34,
   "id": "8a162635",
   "metadata": {},
   "outputs": [],
   "source": [
    "Y_pred=grid_search_rf.predict(X_test)"
   ]
  },
  {
   "cell_type": "code",
   "execution_count": 35,
   "id": "8f5498e4",
   "metadata": {},
   "outputs": [
    {
     "name": "stdout",
     "output_type": "stream",
     "text": [
      "R-squared: 0.8835624160040338\n",
      "RMSE: 1540.6812373127054\n",
      "Adj R-square: 0.8834287077736078\n"
     ]
    }
   ],
   "source": [
    "from sklearn.metrics import r2_score,mean_squared_error\n",
    "import numpy as np\n",
    "\n",
    "r2=r2_score(Y_test,Y_pred)\n",
    "print(\"R-squared:\",r2)\n",
    "\n",
    "rmse=np.sqrt(mean_squared_error(Y_test,Y_pred))\n",
    "print(\"RMSE:\",rmse)\n",
    "\n",
    "adjusted_r_squared = 1 - (1-r2)*(len(Y)-1)/(len(Y)-X.shape[1]-1)\n",
    "print(\"Adj R-square:\",adjusted_r_squared)"
   ]
  },
  {
   "cell_type": "markdown",
   "id": "9fb57bd9",
   "metadata": {},
   "source": [
    "#### In the pruning of Random Forest we can use multiple hyperparameter as per the requirement. While for me it was taking too long for computation so I used only one i.e. n_estimators"
   ]
  },
  {
   "cell_type": "markdown",
   "id": "af4a5a65",
   "metadata": {},
   "source": [
    "### Q.7\tWrite a conclusion from the business point of view. Finally perform the same preprocessing technique for test data best practice using pipeline."
   ]
  },
  {
   "cell_type": "markdown",
   "id": "b97c27cb",
   "metadata": {},
   "source": [
    "#### 1) Most Preferred Airline: Jet Airways\n",
    "    Jet Airways is the top choice for most passengers, indicating its popularity and good service.\n",
    "    Business Impact: Jet Airways should keep up their good service and focus on marketing to maintain their lead.\n",
    "\n",
    "#### 2) Majority of Flights Take Off from Delhi\n",
    "    Delhi is the busiest departure point for flights, showing high demand.\n",
    "    Business Impact: Airlines should manage resources well and consider expanding in Delhi to meet demand.\n",
    "\n",
    "#### 3) Maximum Flights Land in Destination: Cochin\n",
    "    Cochin is the most common destination for flights, showing its popularity.\n",
    "    Business Impact: Airlines should be ready to handle the high volume of flights landing in Cochin and offer good services.\n",
    "\n",
    "#### 4) Highest Price Airline: Jet Airways Business\n",
    "    Jet Airways Business has the highest ticket prices, likely due to its premium offerings.\n",
    "    Business Impact: Jet Airways Business should maintain its premium services to justify the higher prices.\n",
    "\n",
    "####    In conclusion, understanding customer preferences and market trends is key for airlines to make informed decisions and stay    competitive."
   ]
  },
  {
   "cell_type": "markdown",
   "id": "72270ffa",
   "metadata": {},
   "source": [
    "## Test Data"
   ]
  },
  {
   "cell_type": "code",
   "execution_count": 36,
   "id": "54c9f5b9",
   "metadata": {},
   "outputs": [
    {
     "data": {
      "text/html": [
       "<div>\n",
       "<style scoped>\n",
       "    .dataframe tbody tr th:only-of-type {\n",
       "        vertical-align: middle;\n",
       "    }\n",
       "\n",
       "    .dataframe tbody tr th {\n",
       "        vertical-align: top;\n",
       "    }\n",
       "\n",
       "    .dataframe thead th {\n",
       "        text-align: right;\n",
       "    }\n",
       "</style>\n",
       "<table border=\"1\" class=\"dataframe\">\n",
       "  <thead>\n",
       "    <tr style=\"text-align: right;\">\n",
       "      <th></th>\n",
       "      <th>Airline</th>\n",
       "      <th>Date_of_Journey</th>\n",
       "      <th>Source</th>\n",
       "      <th>Destination</th>\n",
       "      <th>Route</th>\n",
       "      <th>Dep_Time</th>\n",
       "      <th>Arrival_Time</th>\n",
       "      <th>Duration</th>\n",
       "      <th>Total_Stops</th>\n",
       "      <th>Additional_Info</th>\n",
       "    </tr>\n",
       "  </thead>\n",
       "  <tbody>\n",
       "    <tr>\n",
       "      <th>0</th>\n",
       "      <td>Jet Airways</td>\n",
       "      <td>6/06/2019</td>\n",
       "      <td>Delhi</td>\n",
       "      <td>Cochin</td>\n",
       "      <td>DEL → BOM → COK</td>\n",
       "      <td>17:30</td>\n",
       "      <td>04:25 07 Jun</td>\n",
       "      <td>10h 55m</td>\n",
       "      <td>1 stop</td>\n",
       "      <td>No info</td>\n",
       "    </tr>\n",
       "    <tr>\n",
       "      <th>1</th>\n",
       "      <td>IndiGo</td>\n",
       "      <td>12/05/2019</td>\n",
       "      <td>Kolkata</td>\n",
       "      <td>Banglore</td>\n",
       "      <td>CCU → MAA → BLR</td>\n",
       "      <td>06:20</td>\n",
       "      <td>10:20</td>\n",
       "      <td>4h</td>\n",
       "      <td>1 stop</td>\n",
       "      <td>No info</td>\n",
       "    </tr>\n",
       "    <tr>\n",
       "      <th>2</th>\n",
       "      <td>Jet Airways</td>\n",
       "      <td>21/05/2019</td>\n",
       "      <td>Delhi</td>\n",
       "      <td>Cochin</td>\n",
       "      <td>DEL → BOM → COK</td>\n",
       "      <td>19:15</td>\n",
       "      <td>19:00 22 May</td>\n",
       "      <td>23h 45m</td>\n",
       "      <td>1 stop</td>\n",
       "      <td>In-flight meal not included</td>\n",
       "    </tr>\n",
       "    <tr>\n",
       "      <th>3</th>\n",
       "      <td>Multiple carriers</td>\n",
       "      <td>21/05/2019</td>\n",
       "      <td>Delhi</td>\n",
       "      <td>Cochin</td>\n",
       "      <td>DEL → BOM → COK</td>\n",
       "      <td>08:00</td>\n",
       "      <td>21:00</td>\n",
       "      <td>13h</td>\n",
       "      <td>1 stop</td>\n",
       "      <td>No info</td>\n",
       "    </tr>\n",
       "    <tr>\n",
       "      <th>4</th>\n",
       "      <td>Air Asia</td>\n",
       "      <td>24/06/2019</td>\n",
       "      <td>Banglore</td>\n",
       "      <td>Delhi</td>\n",
       "      <td>BLR → DEL</td>\n",
       "      <td>23:55</td>\n",
       "      <td>02:45 25 Jun</td>\n",
       "      <td>2h 50m</td>\n",
       "      <td>non-stop</td>\n",
       "      <td>No info</td>\n",
       "    </tr>\n",
       "  </tbody>\n",
       "</table>\n",
       "</div>"
      ],
      "text/plain": [
       "             Airline Date_of_Journey    Source Destination            Route  \\\n",
       "0        Jet Airways       6/06/2019     Delhi      Cochin  DEL → BOM → COK   \n",
       "1             IndiGo      12/05/2019   Kolkata    Banglore  CCU → MAA → BLR   \n",
       "2        Jet Airways      21/05/2019     Delhi      Cochin  DEL → BOM → COK   \n",
       "3  Multiple carriers      21/05/2019     Delhi      Cochin  DEL → BOM → COK   \n",
       "4           Air Asia      24/06/2019  Banglore       Delhi        BLR → DEL   \n",
       "\n",
       "  Dep_Time  Arrival_Time Duration Total_Stops              Additional_Info  \n",
       "0    17:30  04:25 07 Jun  10h 55m      1 stop                      No info  \n",
       "1    06:20         10:20       4h      1 stop                      No info  \n",
       "2    19:15  19:00 22 May  23h 45m      1 stop  In-flight meal not included  \n",
       "3    08:00         21:00      13h      1 stop                      No info  \n",
       "4    23:55  02:45 25 Jun   2h 50m    non-stop                      No info  "
      ]
     },
     "execution_count": 36,
     "metadata": {},
     "output_type": "execute_result"
    }
   ],
   "source": [
    "df_test = pd.read_excel(r'Flight_Price_Test.xlsx')\n",
    "df_test.head()"
   ]
  },
  {
   "cell_type": "code",
   "execution_count": 37,
   "id": "13e049e7",
   "metadata": {},
   "outputs": [
    {
     "data": {
      "text/html": [
       "<div>\n",
       "<style scoped>\n",
       "    .dataframe tbody tr th:only-of-type {\n",
       "        vertical-align: middle;\n",
       "    }\n",
       "\n",
       "    .dataframe tbody tr th {\n",
       "        vertical-align: top;\n",
       "    }\n",
       "\n",
       "    .dataframe thead th {\n",
       "        text-align: right;\n",
       "    }\n",
       "</style>\n",
       "<table border=\"1\" class=\"dataframe\">\n",
       "  <thead>\n",
       "    <tr style=\"text-align: right;\">\n",
       "      <th></th>\n",
       "      <th>Airline</th>\n",
       "      <th>Date_of_Journey</th>\n",
       "      <th>Source</th>\n",
       "      <th>Destination</th>\n",
       "      <th>Route</th>\n",
       "      <th>Dep_Time</th>\n",
       "      <th>Arrival_Time</th>\n",
       "      <th>Duration</th>\n",
       "      <th>Total_Stops</th>\n",
       "      <th>Additional_Info</th>\n",
       "      <th>Journey_Date</th>\n",
       "      <th>Journey_Month</th>\n",
       "      <th>Journey_Year</th>\n",
       "    </tr>\n",
       "  </thead>\n",
       "  <tbody>\n",
       "    <tr>\n",
       "      <th>0</th>\n",
       "      <td>Jet Airways</td>\n",
       "      <td>2019-06-06</td>\n",
       "      <td>Delhi</td>\n",
       "      <td>Cochin</td>\n",
       "      <td>DEL → BOM → COK</td>\n",
       "      <td>17:30</td>\n",
       "      <td>04:25 07 Jun</td>\n",
       "      <td>10h 55m</td>\n",
       "      <td>1 stop</td>\n",
       "      <td>No info</td>\n",
       "      <td>6</td>\n",
       "      <td>6</td>\n",
       "      <td>2019</td>\n",
       "    </tr>\n",
       "    <tr>\n",
       "      <th>1</th>\n",
       "      <td>IndiGo</td>\n",
       "      <td>2019-05-12</td>\n",
       "      <td>Kolkata</td>\n",
       "      <td>Banglore</td>\n",
       "      <td>CCU → MAA → BLR</td>\n",
       "      <td>06:20</td>\n",
       "      <td>10:20</td>\n",
       "      <td>4h</td>\n",
       "      <td>1 stop</td>\n",
       "      <td>No info</td>\n",
       "      <td>12</td>\n",
       "      <td>5</td>\n",
       "      <td>2019</td>\n",
       "    </tr>\n",
       "    <tr>\n",
       "      <th>2</th>\n",
       "      <td>Jet Airways</td>\n",
       "      <td>2019-05-21</td>\n",
       "      <td>Delhi</td>\n",
       "      <td>Cochin</td>\n",
       "      <td>DEL → BOM → COK</td>\n",
       "      <td>19:15</td>\n",
       "      <td>19:00 22 May</td>\n",
       "      <td>23h 45m</td>\n",
       "      <td>1 stop</td>\n",
       "      <td>In-flight meal not included</td>\n",
       "      <td>21</td>\n",
       "      <td>5</td>\n",
       "      <td>2019</td>\n",
       "    </tr>\n",
       "    <tr>\n",
       "      <th>3</th>\n",
       "      <td>Multiple carriers</td>\n",
       "      <td>2019-05-21</td>\n",
       "      <td>Delhi</td>\n",
       "      <td>Cochin</td>\n",
       "      <td>DEL → BOM → COK</td>\n",
       "      <td>08:00</td>\n",
       "      <td>21:00</td>\n",
       "      <td>13h</td>\n",
       "      <td>1 stop</td>\n",
       "      <td>No info</td>\n",
       "      <td>21</td>\n",
       "      <td>5</td>\n",
       "      <td>2019</td>\n",
       "    </tr>\n",
       "    <tr>\n",
       "      <th>4</th>\n",
       "      <td>Air Asia</td>\n",
       "      <td>2019-06-24</td>\n",
       "      <td>Banglore</td>\n",
       "      <td>Delhi</td>\n",
       "      <td>BLR → DEL</td>\n",
       "      <td>23:55</td>\n",
       "      <td>02:45 25 Jun</td>\n",
       "      <td>2h 50m</td>\n",
       "      <td>non-stop</td>\n",
       "      <td>No info</td>\n",
       "      <td>24</td>\n",
       "      <td>6</td>\n",
       "      <td>2019</td>\n",
       "    </tr>\n",
       "  </tbody>\n",
       "</table>\n",
       "</div>"
      ],
      "text/plain": [
       "             Airline Date_of_Journey    Source Destination            Route  \\\n",
       "0        Jet Airways      2019-06-06     Delhi      Cochin  DEL → BOM → COK   \n",
       "1             IndiGo      2019-05-12   Kolkata    Banglore  CCU → MAA → BLR   \n",
       "2        Jet Airways      2019-05-21     Delhi      Cochin  DEL → BOM → COK   \n",
       "3  Multiple carriers      2019-05-21     Delhi      Cochin  DEL → BOM → COK   \n",
       "4           Air Asia      2019-06-24  Banglore       Delhi        BLR → DEL   \n",
       "\n",
       "  Dep_Time  Arrival_Time Duration Total_Stops              Additional_Info  \\\n",
       "0    17:30  04:25 07 Jun  10h 55m      1 stop                      No info   \n",
       "1    06:20         10:20       4h      1 stop                      No info   \n",
       "2    19:15  19:00 22 May  23h 45m      1 stop  In-flight meal not included   \n",
       "3    08:00         21:00      13h      1 stop                      No info   \n",
       "4    23:55  02:45 25 Jun   2h 50m    non-stop                      No info   \n",
       "\n",
       "   Journey_Date  Journey_Month  Journey_Year  \n",
       "0             6              6          2019  \n",
       "1            12              5          2019  \n",
       "2            21              5          2019  \n",
       "3            21              5          2019  \n",
       "4            24              6          2019  "
      ]
     },
     "execution_count": 37,
     "metadata": {},
     "output_type": "execute_result"
    }
   ],
   "source": [
    "df_test['Date_of_Journey'] = pd.to_datetime(df_test['Date_of_Journey'], format='%d/%m/%Y')\n",
    "df_test['Journey_Date'] = df_test['Date_of_Journey'].dt.day\n",
    "df_test['Journey_Month'] = df_test['Date_of_Journey'].dt.month\n",
    "df_test['Journey_Year'] = df_test['Date_of_Journey'].dt.year\n",
    "\n",
    "df_test.head()"
   ]
  },
  {
   "cell_type": "code",
   "execution_count": 38,
   "id": "5c6be5b5",
   "metadata": {},
   "outputs": [
    {
     "data": {
      "text/html": [
       "<div>\n",
       "<style scoped>\n",
       "    .dataframe tbody tr th:only-of-type {\n",
       "        vertical-align: middle;\n",
       "    }\n",
       "\n",
       "    .dataframe tbody tr th {\n",
       "        vertical-align: top;\n",
       "    }\n",
       "\n",
       "    .dataframe thead th {\n",
       "        text-align: right;\n",
       "    }\n",
       "</style>\n",
       "<table border=\"1\" class=\"dataframe\">\n",
       "  <thead>\n",
       "    <tr style=\"text-align: right;\">\n",
       "      <th></th>\n",
       "      <th>Airline</th>\n",
       "      <th>Source</th>\n",
       "      <th>Destination</th>\n",
       "      <th>Route</th>\n",
       "      <th>Dep_Time</th>\n",
       "      <th>Arrival_Time</th>\n",
       "      <th>Duration</th>\n",
       "      <th>Total_Stops</th>\n",
       "      <th>Additional_Info</th>\n",
       "      <th>Journey_Date</th>\n",
       "      <th>Journey_Month</th>\n",
       "      <th>Journey_Year</th>\n",
       "    </tr>\n",
       "  </thead>\n",
       "  <tbody>\n",
       "    <tr>\n",
       "      <th>0</th>\n",
       "      <td>Jet Airways</td>\n",
       "      <td>Delhi</td>\n",
       "      <td>Cochin</td>\n",
       "      <td>DEL → BOM → COK</td>\n",
       "      <td>17:30</td>\n",
       "      <td>04:25 07 Jun</td>\n",
       "      <td>10h 55m</td>\n",
       "      <td>1 stop</td>\n",
       "      <td>No info</td>\n",
       "      <td>6</td>\n",
       "      <td>6</td>\n",
       "      <td>2019</td>\n",
       "    </tr>\n",
       "    <tr>\n",
       "      <th>1</th>\n",
       "      <td>IndiGo</td>\n",
       "      <td>Kolkata</td>\n",
       "      <td>Banglore</td>\n",
       "      <td>CCU → MAA → BLR</td>\n",
       "      <td>06:20</td>\n",
       "      <td>10:20</td>\n",
       "      <td>4h</td>\n",
       "      <td>1 stop</td>\n",
       "      <td>No info</td>\n",
       "      <td>12</td>\n",
       "      <td>5</td>\n",
       "      <td>2019</td>\n",
       "    </tr>\n",
       "    <tr>\n",
       "      <th>2</th>\n",
       "      <td>Jet Airways</td>\n",
       "      <td>Delhi</td>\n",
       "      <td>Cochin</td>\n",
       "      <td>DEL → BOM → COK</td>\n",
       "      <td>19:15</td>\n",
       "      <td>19:00 22 May</td>\n",
       "      <td>23h 45m</td>\n",
       "      <td>1 stop</td>\n",
       "      <td>In-flight meal not included</td>\n",
       "      <td>21</td>\n",
       "      <td>5</td>\n",
       "      <td>2019</td>\n",
       "    </tr>\n",
       "    <tr>\n",
       "      <th>3</th>\n",
       "      <td>Multiple carriers</td>\n",
       "      <td>Delhi</td>\n",
       "      <td>Cochin</td>\n",
       "      <td>DEL → BOM → COK</td>\n",
       "      <td>08:00</td>\n",
       "      <td>21:00</td>\n",
       "      <td>13h</td>\n",
       "      <td>1 stop</td>\n",
       "      <td>No info</td>\n",
       "      <td>21</td>\n",
       "      <td>5</td>\n",
       "      <td>2019</td>\n",
       "    </tr>\n",
       "    <tr>\n",
       "      <th>4</th>\n",
       "      <td>Air Asia</td>\n",
       "      <td>Banglore</td>\n",
       "      <td>Delhi</td>\n",
       "      <td>BLR → DEL</td>\n",
       "      <td>23:55</td>\n",
       "      <td>02:45 25 Jun</td>\n",
       "      <td>2h 50m</td>\n",
       "      <td>non-stop</td>\n",
       "      <td>No info</td>\n",
       "      <td>24</td>\n",
       "      <td>6</td>\n",
       "      <td>2019</td>\n",
       "    </tr>\n",
       "  </tbody>\n",
       "</table>\n",
       "</div>"
      ],
      "text/plain": [
       "             Airline    Source Destination            Route Dep_Time  \\\n",
       "0        Jet Airways     Delhi      Cochin  DEL → BOM → COK    17:30   \n",
       "1             IndiGo   Kolkata    Banglore  CCU → MAA → BLR    06:20   \n",
       "2        Jet Airways     Delhi      Cochin  DEL → BOM → COK    19:15   \n",
       "3  Multiple carriers     Delhi      Cochin  DEL → BOM → COK    08:00   \n",
       "4           Air Asia  Banglore       Delhi        BLR → DEL    23:55   \n",
       "\n",
       "   Arrival_Time Duration Total_Stops              Additional_Info  \\\n",
       "0  04:25 07 Jun  10h 55m      1 stop                      No info   \n",
       "1         10:20       4h      1 stop                      No info   \n",
       "2  19:00 22 May  23h 45m      1 stop  In-flight meal not included   \n",
       "3         21:00      13h      1 stop                      No info   \n",
       "4  02:45 25 Jun   2h 50m    non-stop                      No info   \n",
       "\n",
       "   Journey_Date  Journey_Month  Journey_Year  \n",
       "0             6              6          2019  \n",
       "1            12              5          2019  \n",
       "2            21              5          2019  \n",
       "3            21              5          2019  \n",
       "4            24              6          2019  "
      ]
     },
     "execution_count": 38,
     "metadata": {},
     "output_type": "execute_result"
    }
   ],
   "source": [
    "df_test.drop(columns='Date_of_Journey', inplace=True)\n",
    "df_test.head()"
   ]
  },
  {
   "cell_type": "code",
   "execution_count": 39,
   "id": "896e068c",
   "metadata": {},
   "outputs": [
    {
     "data": {
      "text/plain": [
       "(2671, 12)"
      ]
     },
     "execution_count": 39,
     "metadata": {},
     "output_type": "execute_result"
    }
   ],
   "source": [
    "df_test.shape"
   ]
  },
  {
   "cell_type": "code",
   "execution_count": 40,
   "id": "7a90182e",
   "metadata": {},
   "outputs": [
    {
     "data": {
      "text/plain": [
       "26"
      ]
     },
     "execution_count": 40,
     "metadata": {},
     "output_type": "execute_result"
    }
   ],
   "source": [
    "df_test.duplicated().sum()"
   ]
  },
  {
   "cell_type": "code",
   "execution_count": 41,
   "id": "a4f271e9",
   "metadata": {},
   "outputs": [],
   "source": [
    "df_test.drop_duplicates(inplace=True)"
   ]
  },
  {
   "cell_type": "code",
   "execution_count": 42,
   "id": "27f0b12a",
   "metadata": {},
   "outputs": [
    {
     "data": {
      "text/plain": [
       "0"
      ]
     },
     "execution_count": 42,
     "metadata": {},
     "output_type": "execute_result"
    }
   ],
   "source": [
    "df_test.duplicated().sum()"
   ]
  },
  {
   "cell_type": "code",
   "execution_count": 43,
   "id": "aaf87f9b",
   "metadata": {},
   "outputs": [
    {
     "data": {
      "text/plain": [
       "Airline            0\n",
       "Source             0\n",
       "Destination        0\n",
       "Route              0\n",
       "Dep_Time           0\n",
       "Arrival_Time       0\n",
       "Duration           0\n",
       "Total_Stops        0\n",
       "Additional_Info    0\n",
       "Journey_Date       0\n",
       "Journey_Month      0\n",
       "Journey_Year       0\n",
       "dtype: int64"
      ]
     },
     "execution_count": 43,
     "metadata": {},
     "output_type": "execute_result"
    }
   ],
   "source": [
    "df_test.isna().sum()"
   ]
  },
  {
   "cell_type": "code",
   "execution_count": 44,
   "id": "7cc4087c",
   "metadata": {},
   "outputs": [
    {
     "data": {
      "text/html": [
       "<div>\n",
       "<style scoped>\n",
       "    .dataframe tbody tr th:only-of-type {\n",
       "        vertical-align: middle;\n",
       "    }\n",
       "\n",
       "    .dataframe tbody tr th {\n",
       "        vertical-align: top;\n",
       "    }\n",
       "\n",
       "    .dataframe thead th {\n",
       "        text-align: right;\n",
       "    }\n",
       "</style>\n",
       "<table border=\"1\" class=\"dataframe\">\n",
       "  <thead>\n",
       "    <tr style=\"text-align: right;\">\n",
       "      <th></th>\n",
       "      <th>Airline</th>\n",
       "      <th>Source</th>\n",
       "      <th>Destination</th>\n",
       "      <th>Route</th>\n",
       "      <th>Dep_Time</th>\n",
       "      <th>Arrival_Time</th>\n",
       "      <th>Duration</th>\n",
       "      <th>Total_Stops</th>\n",
       "      <th>Additional_Info</th>\n",
       "      <th>Journey_Date</th>\n",
       "      <th>Journey_Month</th>\n",
       "      <th>Journey_Year</th>\n",
       "    </tr>\n",
       "  </thead>\n",
       "  <tbody>\n",
       "    <tr>\n",
       "      <th>count</th>\n",
       "      <td>2645</td>\n",
       "      <td>2645</td>\n",
       "      <td>2645</td>\n",
       "      <td>2645</td>\n",
       "      <td>2645</td>\n",
       "      <td>2645</td>\n",
       "      <td>2645</td>\n",
       "      <td>2645</td>\n",
       "      <td>2645</td>\n",
       "      <td>2645.000000</td>\n",
       "      <td>2645.000000</td>\n",
       "      <td>2645.0</td>\n",
       "    </tr>\n",
       "    <tr>\n",
       "      <th>unique</th>\n",
       "      <td>11</td>\n",
       "      <td>5</td>\n",
       "      <td>6</td>\n",
       "      <td>100</td>\n",
       "      <td>199</td>\n",
       "      <td>704</td>\n",
       "      <td>320</td>\n",
       "      <td>5</td>\n",
       "      <td>6</td>\n",
       "      <td>NaN</td>\n",
       "      <td>NaN</td>\n",
       "      <td>NaN</td>\n",
       "    </tr>\n",
       "    <tr>\n",
       "      <th>top</th>\n",
       "      <td>Jet Airways</td>\n",
       "      <td>Delhi</td>\n",
       "      <td>Cochin</td>\n",
       "      <td>DEL → BOM → COK</td>\n",
       "      <td>10:00</td>\n",
       "      <td>19:00</td>\n",
       "      <td>2h 50m</td>\n",
       "      <td>1 stop</td>\n",
       "      <td>No info</td>\n",
       "      <td>NaN</td>\n",
       "      <td>NaN</td>\n",
       "      <td>NaN</td>\n",
       "    </tr>\n",
       "    <tr>\n",
       "      <th>freq</th>\n",
       "      <td>886</td>\n",
       "      <td>1127</td>\n",
       "      <td>1127</td>\n",
       "      <td>620</td>\n",
       "      <td>61</td>\n",
       "      <td>112</td>\n",
       "      <td>121</td>\n",
       "      <td>1427</td>\n",
       "      <td>2126</td>\n",
       "      <td>NaN</td>\n",
       "      <td>NaN</td>\n",
       "      <td>NaN</td>\n",
       "    </tr>\n",
       "    <tr>\n",
       "      <th>mean</th>\n",
       "      <td>NaN</td>\n",
       "      <td>NaN</td>\n",
       "      <td>NaN</td>\n",
       "      <td>NaN</td>\n",
       "      <td>NaN</td>\n",
       "      <td>NaN</td>\n",
       "      <td>NaN</td>\n",
       "      <td>NaN</td>\n",
       "      <td>NaN</td>\n",
       "      <td>12.908129</td>\n",
       "      <td>4.715690</td>\n",
       "      <td>2019.0</td>\n",
       "    </tr>\n",
       "    <tr>\n",
       "      <th>std</th>\n",
       "      <td>NaN</td>\n",
       "      <td>NaN</td>\n",
       "      <td>NaN</td>\n",
       "      <td>NaN</td>\n",
       "      <td>NaN</td>\n",
       "      <td>NaN</td>\n",
       "      <td>NaN</td>\n",
       "      <td>NaN</td>\n",
       "      <td>NaN</td>\n",
       "      <td>8.267572</td>\n",
       "      <td>1.170134</td>\n",
       "      <td>0.0</td>\n",
       "    </tr>\n",
       "    <tr>\n",
       "      <th>min</th>\n",
       "      <td>NaN</td>\n",
       "      <td>NaN</td>\n",
       "      <td>NaN</td>\n",
       "      <td>NaN</td>\n",
       "      <td>NaN</td>\n",
       "      <td>NaN</td>\n",
       "      <td>NaN</td>\n",
       "      <td>NaN</td>\n",
       "      <td>NaN</td>\n",
       "      <td>1.000000</td>\n",
       "      <td>3.000000</td>\n",
       "      <td>2019.0</td>\n",
       "    </tr>\n",
       "    <tr>\n",
       "      <th>25%</th>\n",
       "      <td>NaN</td>\n",
       "      <td>NaN</td>\n",
       "      <td>NaN</td>\n",
       "      <td>NaN</td>\n",
       "      <td>NaN</td>\n",
       "      <td>NaN</td>\n",
       "      <td>NaN</td>\n",
       "      <td>NaN</td>\n",
       "      <td>NaN</td>\n",
       "      <td>6.000000</td>\n",
       "      <td>3.000000</td>\n",
       "      <td>2019.0</td>\n",
       "    </tr>\n",
       "    <tr>\n",
       "      <th>50%</th>\n",
       "      <td>NaN</td>\n",
       "      <td>NaN</td>\n",
       "      <td>NaN</td>\n",
       "      <td>NaN</td>\n",
       "      <td>NaN</td>\n",
       "      <td>NaN</td>\n",
       "      <td>NaN</td>\n",
       "      <td>NaN</td>\n",
       "      <td>NaN</td>\n",
       "      <td>12.000000</td>\n",
       "      <td>5.000000</td>\n",
       "      <td>2019.0</td>\n",
       "    </tr>\n",
       "    <tr>\n",
       "      <th>75%</th>\n",
       "      <td>NaN</td>\n",
       "      <td>NaN</td>\n",
       "      <td>NaN</td>\n",
       "      <td>NaN</td>\n",
       "      <td>NaN</td>\n",
       "      <td>NaN</td>\n",
       "      <td>NaN</td>\n",
       "      <td>NaN</td>\n",
       "      <td>NaN</td>\n",
       "      <td>21.000000</td>\n",
       "      <td>6.000000</td>\n",
       "      <td>2019.0</td>\n",
       "    </tr>\n",
       "    <tr>\n",
       "      <th>max</th>\n",
       "      <td>NaN</td>\n",
       "      <td>NaN</td>\n",
       "      <td>NaN</td>\n",
       "      <td>NaN</td>\n",
       "      <td>NaN</td>\n",
       "      <td>NaN</td>\n",
       "      <td>NaN</td>\n",
       "      <td>NaN</td>\n",
       "      <td>NaN</td>\n",
       "      <td>27.000000</td>\n",
       "      <td>6.000000</td>\n",
       "      <td>2019.0</td>\n",
       "    </tr>\n",
       "  </tbody>\n",
       "</table>\n",
       "</div>"
      ],
      "text/plain": [
       "            Airline Source Destination            Route Dep_Time Arrival_Time  \\\n",
       "count          2645   2645        2645             2645     2645         2645   \n",
       "unique           11      5           6              100      199          704   \n",
       "top     Jet Airways  Delhi      Cochin  DEL → BOM → COK    10:00        19:00   \n",
       "freq            886   1127        1127              620       61          112   \n",
       "mean            NaN    NaN         NaN              NaN      NaN          NaN   \n",
       "std             NaN    NaN         NaN              NaN      NaN          NaN   \n",
       "min             NaN    NaN         NaN              NaN      NaN          NaN   \n",
       "25%             NaN    NaN         NaN              NaN      NaN          NaN   \n",
       "50%             NaN    NaN         NaN              NaN      NaN          NaN   \n",
       "75%             NaN    NaN         NaN              NaN      NaN          NaN   \n",
       "max             NaN    NaN         NaN              NaN      NaN          NaN   \n",
       "\n",
       "       Duration Total_Stops Additional_Info  Journey_Date  Journey_Month  \\\n",
       "count      2645        2645            2645   2645.000000    2645.000000   \n",
       "unique      320           5               6           NaN            NaN   \n",
       "top      2h 50m      1 stop         No info           NaN            NaN   \n",
       "freq        121        1427            2126           NaN            NaN   \n",
       "mean        NaN         NaN             NaN     12.908129       4.715690   \n",
       "std         NaN         NaN             NaN      8.267572       1.170134   \n",
       "min         NaN         NaN             NaN      1.000000       3.000000   \n",
       "25%         NaN         NaN             NaN      6.000000       3.000000   \n",
       "50%         NaN         NaN             NaN     12.000000       5.000000   \n",
       "75%         NaN         NaN             NaN     21.000000       6.000000   \n",
       "max         NaN         NaN             NaN     27.000000       6.000000   \n",
       "\n",
       "        Journey_Year  \n",
       "count         2645.0  \n",
       "unique           NaN  \n",
       "top              NaN  \n",
       "freq             NaN  \n",
       "mean          2019.0  \n",
       "std              0.0  \n",
       "min           2019.0  \n",
       "25%           2019.0  \n",
       "50%           2019.0  \n",
       "75%           2019.0  \n",
       "max           2019.0  "
      ]
     },
     "execution_count": 44,
     "metadata": {},
     "output_type": "execute_result"
    }
   ],
   "source": [
    "df_test.describe(include='all')"
   ]
  },
  {
   "cell_type": "code",
   "execution_count": 45,
   "id": "63d2eff8",
   "metadata": {},
   "outputs": [
    {
     "name": "stdout",
     "output_type": "stream",
     "text": [
      "<class 'pandas.core.frame.DataFrame'>\n",
      "Index: 2645 entries, 0 to 2670\n",
      "Data columns (total 12 columns):\n",
      " #   Column           Non-Null Count  Dtype \n",
      "---  ------           --------------  ----- \n",
      " 0   Airline          2645 non-null   object\n",
      " 1   Source           2645 non-null   object\n",
      " 2   Destination      2645 non-null   object\n",
      " 3   Route            2645 non-null   object\n",
      " 4   Dep_Time         2645 non-null   object\n",
      " 5   Arrival_Time     2645 non-null   object\n",
      " 6   Duration         2645 non-null   object\n",
      " 7   Total_Stops      2645 non-null   object\n",
      " 8   Additional_Info  2645 non-null   object\n",
      " 9   Journey_Date     2645 non-null   int32 \n",
      " 10  Journey_Month    2645 non-null   int32 \n",
      " 11  Journey_Year     2645 non-null   int32 \n",
      "dtypes: int32(3), object(9)\n",
      "memory usage: 237.6+ KB\n"
     ]
    }
   ],
   "source": [
    "df_test.info()"
   ]
  },
  {
   "cell_type": "code",
   "execution_count": 46,
   "id": "6ff4b44d",
   "metadata": {
    "scrolled": true
   },
   "outputs": [
    {
     "data": {
      "text/plain": [
       "['Airline',\n",
       " 'Source',\n",
       " 'Destination',\n",
       " 'Route',\n",
       " 'Dep_Time',\n",
       " 'Arrival_Time',\n",
       " 'Duration',\n",
       " 'Total_Stops',\n",
       " 'Additional_Info']"
      ]
     },
     "execution_count": 46,
     "metadata": {},
     "output_type": "execute_result"
    }
   ],
   "source": [
    "colname=[]\n",
    "for x in df_test.columns:\n",
    "    if df_test[x].dtype=='object':\n",
    "        colname.append(x)\n",
    "colname"
   ]
  },
  {
   "cell_type": "markdown",
   "id": "b387fc0b",
   "metadata": {},
   "source": [
    "#### Converting Categorical Variables into Numerical Variables by using LabelEncoder()"
   ]
  },
  {
   "cell_type": "code",
   "execution_count": 47,
   "id": "2881a86f",
   "metadata": {},
   "outputs": [],
   "source": [
    "from sklearn.preprocessing import LabelEncoder\n",
    " \n",
    "le=LabelEncoder()\n",
    " \n",
    "for x in colname:\n",
    "    df_test[x]=le.fit_transform(df_test[x])"
   ]
  },
  {
   "cell_type": "markdown",
   "id": "3fcb51ed",
   "metadata": {},
   "source": [
    "#### Create X"
   ]
  },
  {
   "cell_type": "code",
   "execution_count": 48,
   "id": "cea7c5da",
   "metadata": {},
   "outputs": [],
   "source": [
    "X_test_new = df_test"
   ]
  },
  {
   "cell_type": "code",
   "execution_count": 49,
   "id": "778d6b4a",
   "metadata": {},
   "outputs": [
    {
     "name": "stdout",
     "output_type": "stream",
     "text": [
      "(2645, 12)\n"
     ]
    }
   ],
   "source": [
    "print(X_test_new.shape)"
   ]
  },
  {
   "cell_type": "code",
   "execution_count": 50,
   "id": "8d04ba52",
   "metadata": {},
   "outputs": [],
   "source": [
    "X_test_new = scaler.transform(X_test_new)\n",
    "#X=scaler.fit_transform(X)\n",
    "#print(X)"
   ]
  },
  {
   "cell_type": "code",
   "execution_count": 51,
   "id": "7753bbf8",
   "metadata": {},
   "outputs": [
    {
     "name": "stdout",
     "output_type": "stream",
     "text": [
      "[[ 0.0081243   0.03907712 -0.29675162 ... -0.88136161  1.11582544\n",
      "   0.        ]\n",
      " [-0.41478375  0.88209553 -0.97202613 ... -0.17272791  0.25649366\n",
      "   0.        ]\n",
      " [ 0.0081243   0.03907712 -0.29675162 ...  0.89022263  0.25649366\n",
      "   0.        ]\n",
      " ...\n",
      " [ 0.0081243   0.03907712 -0.29675162 ... -0.88136161 -1.46216991\n",
      "   0.        ]\n",
      " [-1.26059986  0.03907712 -0.29675162 ... -0.88136161 -1.46216991\n",
      "   0.        ]\n",
      " [ 0.8539404   0.03907712 -0.29675162 ...  0.18158894  1.11582544\n",
      "   0.        ]]\n"
     ]
    }
   ],
   "source": [
    "print(X_test_new)"
   ]
  },
  {
   "cell_type": "code",
   "execution_count": 52,
   "id": "c9094ae0",
   "metadata": {},
   "outputs": [
    {
     "name": "stdout",
     "output_type": "stream",
     "text": [
      "[10003.07   4957.09  28237.96  ... 13210.05  14088.89   9721.465]\n"
     ]
    }
   ],
   "source": [
    "Y_pred_new=random_forest.predict(X_test_new)\n",
    "print(Y_pred_new)"
   ]
  },
  {
   "cell_type": "code",
   "execution_count": 53,
   "id": "f2d124a0",
   "metadata": {},
   "outputs": [
    {
     "data": {
      "text/html": [
       "<div>\n",
       "<style scoped>\n",
       "    .dataframe tbody tr th:only-of-type {\n",
       "        vertical-align: middle;\n",
       "    }\n",
       "\n",
       "    .dataframe tbody tr th {\n",
       "        vertical-align: top;\n",
       "    }\n",
       "\n",
       "    .dataframe thead th {\n",
       "        text-align: right;\n",
       "    }\n",
       "</style>\n",
       "<table border=\"1\" class=\"dataframe\">\n",
       "  <thead>\n",
       "    <tr style=\"text-align: right;\">\n",
       "      <th></th>\n",
       "      <th>Airline</th>\n",
       "      <th>Source</th>\n",
       "      <th>Destination</th>\n",
       "      <th>Route</th>\n",
       "      <th>Dep_Time</th>\n",
       "      <th>Arrival_Time</th>\n",
       "      <th>Duration</th>\n",
       "      <th>Total_Stops</th>\n",
       "      <th>Additional_Info</th>\n",
       "      <th>Journey_Date</th>\n",
       "      <th>Journey_Month</th>\n",
       "      <th>Journey_Year</th>\n",
       "      <th>Pred</th>\n",
       "    </tr>\n",
       "  </thead>\n",
       "  <tbody>\n",
       "    <tr>\n",
       "      <th>0</th>\n",
       "      <td>4</td>\n",
       "      <td>2</td>\n",
       "      <td>1</td>\n",
       "      <td>76</td>\n",
       "      <td>138</td>\n",
       "      <td>150</td>\n",
       "      <td>10</td>\n",
       "      <td>0</td>\n",
       "      <td>5</td>\n",
       "      <td>6</td>\n",
       "      <td>6</td>\n",
       "      <td>2019</td>\n",
       "      <td>10003.07</td>\n",
       "    </tr>\n",
       "    <tr>\n",
       "      <th>1</th>\n",
       "      <td>3</td>\n",
       "      <td>3</td>\n",
       "      <td>0</td>\n",
       "      <td>65</td>\n",
       "      <td>31</td>\n",
       "      <td>353</td>\n",
       "      <td>248</td>\n",
       "      <td>0</td>\n",
       "      <td>5</td>\n",
       "      <td>12</td>\n",
       "      <td>5</td>\n",
       "      <td>2019</td>\n",
       "      <td>4957.09</td>\n",
       "    </tr>\n",
       "    <tr>\n",
       "      <th>2</th>\n",
       "      <td>4</td>\n",
       "      <td>2</td>\n",
       "      <td>1</td>\n",
       "      <td>76</td>\n",
       "      <td>156</td>\n",
       "      <td>566</td>\n",
       "      <td>148</td>\n",
       "      <td>0</td>\n",
       "      <td>3</td>\n",
       "      <td>21</td>\n",
       "      <td>5</td>\n",
       "      <td>2019</td>\n",
       "      <td>28237.96</td>\n",
       "    </tr>\n",
       "    <tr>\n",
       "      <th>3</th>\n",
       "      <td>6</td>\n",
       "      <td>2</td>\n",
       "      <td>1</td>\n",
       "      <td>76</td>\n",
       "      <td>48</td>\n",
       "      <td>633</td>\n",
       "      <td>36</td>\n",
       "      <td>0</td>\n",
       "      <td>5</td>\n",
       "      <td>21</td>\n",
       "      <td>5</td>\n",
       "      <td>2019</td>\n",
       "      <td>9423.22</td>\n",
       "    </tr>\n",
       "    <tr>\n",
       "      <th>4</th>\n",
       "      <td>0</td>\n",
       "      <td>0</td>\n",
       "      <td>2</td>\n",
       "      <td>16</td>\n",
       "      <td>198</td>\n",
       "      <td>135</td>\n",
       "      <td>216</td>\n",
       "      <td>4</td>\n",
       "      <td>5</td>\n",
       "      <td>24</td>\n",
       "      <td>6</td>\n",
       "      <td>2019</td>\n",
       "      <td>4235.92</td>\n",
       "    </tr>\n",
       "  </tbody>\n",
       "</table>\n",
       "</div>"
      ],
      "text/plain": [
       "   Airline  Source  Destination  Route  Dep_Time  Arrival_Time  Duration  \\\n",
       "0        4       2            1     76       138           150        10   \n",
       "1        3       3            0     65        31           353       248   \n",
       "2        4       2            1     76       156           566       148   \n",
       "3        6       2            1     76        48           633        36   \n",
       "4        0       0            2     16       198           135       216   \n",
       "\n",
       "   Total_Stops  Additional_Info  Journey_Date  Journey_Month  Journey_Year  \\\n",
       "0            0                5             6              6          2019   \n",
       "1            0                5            12              5          2019   \n",
       "2            0                3            21              5          2019   \n",
       "3            0                5            21              5          2019   \n",
       "4            4                5            24              6          2019   \n",
       "\n",
       "       Pred  \n",
       "0  10003.07  \n",
       "1   4957.09  \n",
       "2  28237.96  \n",
       "3   9423.22  \n",
       "4   4235.92  "
      ]
     },
     "execution_count": 53,
     "metadata": {},
     "output_type": "execute_result"
    }
   ],
   "source": [
    "#df_test = pd.read_excel(r'Flight_Price_Test.xlsx',header=0)\n",
    "df_test[\"Pred\"]=Y_pred_new\n",
    "df_test.head()"
   ]
  },
  {
   "cell_type": "code",
   "execution_count": 54,
   "id": "78deee13",
   "metadata": {},
   "outputs": [
    {
     "data": {
      "text/plain": [
       "Pred\n",
       "4233.780     3\n",
       "10003.070    2\n",
       "4476.650     2\n",
       "25413.770    2\n",
       "4000.010     2\n",
       "            ..\n",
       "3972.250     1\n",
       "4000.850     1\n",
       "4053.930     1\n",
       "13048.410    1\n",
       "9721.465     1\n",
       "Name: count, Length: 2589, dtype: int64"
      ]
     },
     "execution_count": 54,
     "metadata": {},
     "output_type": "execute_result"
    }
   ],
   "source": [
    "df_test.Pred.value_counts()"
   ]
  },
  {
   "cell_type": "code",
   "execution_count": 55,
   "id": "fd516406",
   "metadata": {},
   "outputs": [],
   "source": [
    "#df_test.to_excel('Flight Test RandomForest Output.xlsx',header=True)"
   ]
  },
  {
   "cell_type": "markdown",
   "id": "2512e3a8",
   "metadata": {},
   "source": [
    "### Conclusion: The Random Forest Regressor gave the least RMSE and best Adjusted R^2. Therefore it was use for test data prediction."
   ]
  }
 ],
 "metadata": {
  "kernelspec": {
   "display_name": "Python 3 (ipykernel)",
   "language": "python",
   "name": "python3"
  },
  "language_info": {
   "codemirror_mode": {
    "name": "ipython",
    "version": 3
   },
   "file_extension": ".py",
   "mimetype": "text/x-python",
   "name": "python",
   "nbconvert_exporter": "python",
   "pygments_lexer": "ipython3",
   "version": "3.11.5"
  }
 },
 "nbformat": 4,
 "nbformat_minor": 5
}
